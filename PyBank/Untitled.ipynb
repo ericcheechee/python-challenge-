{
 "cells": [
  {
   "cell_type": "code",
   "execution_count": 17,
   "metadata": {},
   "outputs": [],
   "source": [
    "import os \n",
    "import csv"
   ]
  },
  {
   "cell_type": "code",
   "execution_count": 18,
   "metadata": {},
   "outputs": [],
   "source": [
    "csvpath = os.path.join(\"..\",\"Resources\",\"budget_data.csv.csv\")"
   ]
  },
  {
   "cell_type": "code",
   "execution_count": 72,
   "metadata": {},
   "outputs": [],
   "source": [
    "counter = 0 \n",
    "profit = 0 "
   ]
  },
  {
   "cell_type": "code",
   "execution_count": 36,
   "metadata": {},
   "outputs": [],
   "source": [
    "averagemonths = []\n",
    "month = 0 \n",
    "total = 0\n",
    "pmonths = 0 \n",
    "increase = 867884\n",
    "decrease = 0 \n",
    "month_change = 0\n",
    "total_list = 0"
   ]
  },
  {
   "cell_type": "code",
   "execution_count": 38,
   "metadata": {},
   "outputs": [],
   "source": [
    "with open(csvpath, newline=\"\") as csvfile:\n",
    "    csvreader = csv.reader(csvfile, delimiter=\",\")\n",
    "    header = next(csvreader)\n",
    "    \n",
    "    for row in csvreader:\n",
    "        month = month + 1\n",
    "        total = total + int(row[1])\n",
    "        counter = int(row[1])\n",
    "        change_month = counter - pmonths\n",
    "        pmonths = counter\n",
    "        \n",
    "        averagemonths.append(change_month)\n",
    "        \n",
    "        total_list = total_list + int(row[1])\n",
    "        \n",
    "        if change_month > increase:\n",
    "            increase = change_month\n",
    "            \n",
    "        elif change_month < decrease:\n",
    "            decrease = change_month\n",
    "    \n",
    "            \n",
    "        "
   ]
  },
  {
   "cell_type": "code",
   "execution_count": 39,
   "metadata": {},
   "outputs": [
    {
     "data": {
      "text/plain": [
       "87"
      ]
     },
     "execution_count": 39,
     "metadata": {},
     "output_type": "execute_result"
    }
   ],
   "source": [
    "len(averagemonths)\n"
   ]
  },
  {
   "cell_type": "code",
   "execution_count": 40,
   "metadata": {},
   "outputs": [
    {
     "name": "stdout",
     "output_type": "stream",
     "text": [
      "Financial Analysis\n",
      "----------------------------\n",
      "Total Months:87\n",
      "Total38382578\n",
      "Average Change:-2288.1976744186045\n",
      "Greatest Increase in Profits: Feb-2012  1926159\n",
      "Greatest Decrease in Profits: Sep - 2013 -2196167\n"
     ]
    }
   ],
   "source": [
    "avgmonths = sum(averagemonths[1:]) / len(averagemonths[1:])\n",
    "print (\"Financial Analysis\")\n",
    "print (\"----------------------------\")\n",
    "print (\"Total Months:\" + str(month))\n",
    "print (\"Total\" + str(total_list))\n",
    "print (\"Average Change:\" + str(avgmonths))\n",
    "print (\"Greatest Increase in Profits: Feb-2012  \"  + str(increase))\n",
    "print (\"Greatest Decrease in Profits: Sep - 2013 \" + str(decrease))"
   ]
  },
  {
   "cell_type": "code",
   "execution_count": null,
   "metadata": {},
   "outputs": [],
   "source": []
  },
  {
   "cell_type": "code",
   "execution_count": null,
   "metadata": {},
   "outputs": [],
   "source": []
  },
  {
   "cell_type": "code",
   "execution_count": null,
   "metadata": {},
   "outputs": [],
   "source": []
  },
  {
   "cell_type": "code",
   "execution_count": null,
   "metadata": {},
   "outputs": [],
   "source": []
  },
  {
   "cell_type": "code",
   "execution_count": null,
   "metadata": {},
   "outputs": [],
   "source": []
  },
  {
   "cell_type": "code",
   "execution_count": null,
   "metadata": {},
   "outputs": [],
   "source": []
  },
  {
   "cell_type": "code",
   "execution_count": null,
   "metadata": {},
   "outputs": [],
   "source": [
    "Profit = []\n",
    "List = []\n",
    "m = []\n",
    "p = []"
   ]
  },
  {
   "cell_type": "code",
   "execution_count": null,
   "metadata": {},
   "outputs": [],
   "source": [
    "with open(csvpath, newline=\"\") as csvfile:\n",
    "    csvreader = csv.reader(csvfile, delimiter=\",\")\n",
    "    header = next(csvreader)\n",
    "    \n",
    "    for row in csvreader:\n",
    "        counter = counter + 1\n",
    "        profit = profit + int(row[1])\n",
    "        Profit.append(int(row[1]))\n",
    "        m.append(row[0])\n",
    "\n",
    "change = []\n",
    "\n",
    "for x in range(1, len(p)):\n",
    "    change.append((int(p[x]) - int(p[x - 1])))\n",
    "\n",
    "    average = sum(change) / len(change)\n",
    "\n",
    "    increase = max(change)\n",
    "\n",
    "    decrease = min(change)\n",
    "\n",
    "    months = len(m) "
   ]
  }
 ],
 "metadata": {
  "kernelspec": {
   "display_name": "Python 3",
   "language": "python",
   "name": "python3"
  },
  "language_info": {
   "codemirror_mode": {
    "name": "ipython",
    "version": 3
   },
   "file_extension": ".py",
   "mimetype": "text/x-python",
   "name": "python",
   "nbconvert_exporter": "python",
   "pygments_lexer": "ipython3",
   "version": "3.6.5"
  }
 },
 "nbformat": 4,
 "nbformat_minor": 2
}

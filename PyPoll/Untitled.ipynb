{
 "cells": [
  {
   "cell_type": "code",
   "execution_count": 109,
   "metadata": {},
   "outputs": [],
   "source": [
    "import os \n",
    "import csv"
   ]
  },
  {
   "cell_type": "code",
   "execution_count": 110,
   "metadata": {},
   "outputs": [],
   "source": [
    "filename = os.path.join(\"..\",\"Resources\",\"election_data.csv\")"
   ]
  },
  {
   "cell_type": "code",
   "execution_count": 111,
   "metadata": {},
   "outputs": [],
   "source": [
    "Khan = []\n",
    "Correy = [] \n",
    "Li = []\n",
    "OTooley = [] \n",
    "Win = []\n",
    "votes = [] \n",
    "peoples = []\n",
    "people = []\n",
    "Voters = []\n",
    "percentKhan = []\n",
    "percentCorrey = []\n",
    "percentLi = []\n",
    "percentOtooley = []"
   ]
  },
  {
   "cell_type": "code",
   "execution_count": 112,
   "metadata": {},
   "outputs": [],
   "source": [
    "with open(filename, newline=\"\") as csvfile:\n",
    "    csvreader = csv.reader(csvfile, delimiter=\",\")\n",
    "    header = next(csvreader)\n",
    "    \n",
    "    for row in csvreader:\n",
    "        people.append(row[2])\n",
    "        votes.append(row[0])\n",
    "        \n",
    "        if row[2] == \"Khan\":\n",
    "            Khan.append(row[0])\n",
    "        elif row[2] == \"Correy\":\n",
    "            Correy.append(row[0])\n",
    "        elif row[2] == \"Li\":\n",
    "            Li.append(row[0])\n",
    "        elif row[2] == \"O'Tooley\":\n",
    "            OTooley.append(row[0]) \n",
    "            \n",
    "    for people in peoples:\n",
    "        if people not in voters:\n",
    "            voters.append(candidate)\n",
    "        \n",
    "    \n",
    "    \n",
    "            "
   ]
  },
  {
   "cell_type": "code",
   "execution_count": 121,
   "metadata": {},
   "outputs": [
    {
     "name": "stderr",
     "output_type": "stream",
     "text": [
      "IOPub data rate exceeded.\n",
      "The notebook server will temporarily stop sending output\n",
      "to the client in order to avoid crashing it.\n",
      "To change this limit, set the config variable\n",
      "`--NotebookApp.iopub_data_rate_limit`.\n",
      "\n",
      "Current values:\n",
      "NotebookApp.iopub_data_rate_limit=1000000.0 (bytes/sec)\n",
      "NotebookApp.rate_limit_window=3.0 (secs)\n",
      "\n"
     ]
    }
   ],
   "source": [
    "\n",
    "\n",
    "print (\"Election Results\")\n",
    "print (\"----------------------------\")\n",
    "print(\"Total Votes: \" + str(len(votes)))\n",
    "print (\"----------------------------\")\n",
    "print (\"Khan: \" + str(Khan))\n",
    "print (\"Correy: \"+ str(Correy))\n",
    "print (\"Li:\" + str(Li))\n",
    "print (\"OTooley:\" + str(OTooley))\n",
    "print (\"----------------------------\")\n",
    "print (\"Winner:\")\n"
   ]
  },
  {
   "cell_type": "code",
   "execution_count": null,
   "metadata": {},
   "outputs": [],
   "source": []
  },
  {
   "cell_type": "code",
   "execution_count": null,
   "metadata": {},
   "outputs": [],
   "source": []
  },
  {
   "cell_type": "code",
   "execution_count": null,
   "metadata": {},
   "outputs": [],
   "source": [
    "output_path  = os.path.join(\"..\",\"PyPoll_output.text\")\n",
    "with open(output_path, 'a') as output:\n",
    "    exportresults()"
   ]
  }
 ],
 "metadata": {
  "kernelspec": {
   "display_name": "Python 3",
   "language": "python",
   "name": "python3"
  },
  "language_info": {
   "codemirror_mode": {
    "name": "ipython",
    "version": 3
   },
   "file_extension": ".py",
   "mimetype": "text/x-python",
   "name": "python",
   "nbconvert_exporter": "python",
   "pygments_lexer": "ipython3",
   "version": "3.6.5"
  }
 },
 "nbformat": 4,
 "nbformat_minor": 2
}
